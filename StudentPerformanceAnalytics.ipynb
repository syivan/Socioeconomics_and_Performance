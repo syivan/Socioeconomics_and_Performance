{
 "cells": [
  {
   "cell_type": "markdown",
   "id": "b555c522",
   "metadata": {},
   "source": [
    "## Analyzing general socioeconomics and its relation to student performances\n",
    "\n",
    "### Based on results, infer ideas and concepts that influence student scores"
   ]
  },
  {
   "cell_type": "markdown",
   "id": "fe117602",
   "metadata": {},
   "source": [
    "### Import necessary libraries"
   ]
  },
  {
   "cell_type": "code",
   "execution_count": 1,
   "id": "5dac0666",
   "metadata": {},
   "outputs": [],
   "source": [
    "import numpy as np\n",
    "import pandas as pd\n",
    "import matplotlib.pyplot as plt"
   ]
  },
  {
   "cell_type": "code",
   "execution_count": 2,
   "id": "76daf93d",
   "metadata": {},
   "outputs": [
    {
     "data": {
      "text/html": [
       "<div>\n",
       "<style scoped>\n",
       "    .dataframe tbody tr th:only-of-type {\n",
       "        vertical-align: middle;\n",
       "    }\n",
       "\n",
       "    .dataframe tbody tr th {\n",
       "        vertical-align: top;\n",
       "    }\n",
       "\n",
       "    .dataframe thead th {\n",
       "        text-align: right;\n",
       "    }\n",
       "</style>\n",
       "<table border=\"1\" class=\"dataframe\">\n",
       "  <thead>\n",
       "    <tr style=\"text-align: right;\">\n",
       "      <th></th>\n",
       "      <th>gender</th>\n",
       "      <th>race/ethnicity</th>\n",
       "      <th>parental level of education</th>\n",
       "      <th>lunch</th>\n",
       "      <th>test preparation course</th>\n",
       "      <th>math score</th>\n",
       "      <th>reading score</th>\n",
       "      <th>writing score</th>\n",
       "    </tr>\n",
       "  </thead>\n",
       "  <tbody>\n",
       "    <tr>\n",
       "      <th>0</th>\n",
       "      <td>female</td>\n",
       "      <td>group B</td>\n",
       "      <td>bachelor's degree</td>\n",
       "      <td>standard</td>\n",
       "      <td>none</td>\n",
       "      <td>72</td>\n",
       "      <td>72</td>\n",
       "      <td>74</td>\n",
       "    </tr>\n",
       "    <tr>\n",
       "      <th>1</th>\n",
       "      <td>female</td>\n",
       "      <td>group C</td>\n",
       "      <td>some college</td>\n",
       "      <td>standard</td>\n",
       "      <td>completed</td>\n",
       "      <td>69</td>\n",
       "      <td>90</td>\n",
       "      <td>88</td>\n",
       "    </tr>\n",
       "    <tr>\n",
       "      <th>2</th>\n",
       "      <td>female</td>\n",
       "      <td>group B</td>\n",
       "      <td>master's degree</td>\n",
       "      <td>standard</td>\n",
       "      <td>none</td>\n",
       "      <td>90</td>\n",
       "      <td>95</td>\n",
       "      <td>93</td>\n",
       "    </tr>\n",
       "    <tr>\n",
       "      <th>3</th>\n",
       "      <td>male</td>\n",
       "      <td>group A</td>\n",
       "      <td>associate's degree</td>\n",
       "      <td>free/reduced</td>\n",
       "      <td>none</td>\n",
       "      <td>47</td>\n",
       "      <td>57</td>\n",
       "      <td>44</td>\n",
       "    </tr>\n",
       "    <tr>\n",
       "      <th>4</th>\n",
       "      <td>male</td>\n",
       "      <td>group C</td>\n",
       "      <td>some college</td>\n",
       "      <td>standard</td>\n",
       "      <td>none</td>\n",
       "      <td>76</td>\n",
       "      <td>78</td>\n",
       "      <td>75</td>\n",
       "    </tr>\n",
       "    <tr>\n",
       "      <th>5</th>\n",
       "      <td>female</td>\n",
       "      <td>group B</td>\n",
       "      <td>associate's degree</td>\n",
       "      <td>standard</td>\n",
       "      <td>none</td>\n",
       "      <td>71</td>\n",
       "      <td>83</td>\n",
       "      <td>78</td>\n",
       "    </tr>\n",
       "    <tr>\n",
       "      <th>6</th>\n",
       "      <td>female</td>\n",
       "      <td>group B</td>\n",
       "      <td>some college</td>\n",
       "      <td>standard</td>\n",
       "      <td>completed</td>\n",
       "      <td>88</td>\n",
       "      <td>95</td>\n",
       "      <td>92</td>\n",
       "    </tr>\n",
       "    <tr>\n",
       "      <th>7</th>\n",
       "      <td>male</td>\n",
       "      <td>group B</td>\n",
       "      <td>some college</td>\n",
       "      <td>free/reduced</td>\n",
       "      <td>none</td>\n",
       "      <td>40</td>\n",
       "      <td>43</td>\n",
       "      <td>39</td>\n",
       "    </tr>\n",
       "    <tr>\n",
       "      <th>8</th>\n",
       "      <td>male</td>\n",
       "      <td>group D</td>\n",
       "      <td>high school</td>\n",
       "      <td>free/reduced</td>\n",
       "      <td>completed</td>\n",
       "      <td>64</td>\n",
       "      <td>64</td>\n",
       "      <td>67</td>\n",
       "    </tr>\n",
       "    <tr>\n",
       "      <th>9</th>\n",
       "      <td>female</td>\n",
       "      <td>group B</td>\n",
       "      <td>high school</td>\n",
       "      <td>free/reduced</td>\n",
       "      <td>none</td>\n",
       "      <td>38</td>\n",
       "      <td>60</td>\n",
       "      <td>50</td>\n",
       "    </tr>\n",
       "  </tbody>\n",
       "</table>\n",
       "</div>"
      ],
      "text/plain": [
       "   gender race/ethnicity parental level of education         lunch  \\\n",
       "0  female        group B           bachelor's degree      standard   \n",
       "1  female        group C                some college      standard   \n",
       "2  female        group B             master's degree      standard   \n",
       "3    male        group A          associate's degree  free/reduced   \n",
       "4    male        group C                some college      standard   \n",
       "5  female        group B          associate's degree      standard   \n",
       "6  female        group B                some college      standard   \n",
       "7    male        group B                some college  free/reduced   \n",
       "8    male        group D                 high school  free/reduced   \n",
       "9  female        group B                 high school  free/reduced   \n",
       "\n",
       "  test preparation course  math score  reading score  writing score  \n",
       "0                    none          72             72             74  \n",
       "1               completed          69             90             88  \n",
       "2                    none          90             95             93  \n",
       "3                    none          47             57             44  \n",
       "4                    none          76             78             75  \n",
       "5                    none          71             83             78  \n",
       "6               completed          88             95             92  \n",
       "7                    none          40             43             39  \n",
       "8               completed          64             64             67  \n",
       "9                    none          38             60             50  "
      ]
     },
     "execution_count": 2,
     "metadata": {},
     "output_type": "execute_result"
    }
   ],
   "source": [
    "df = pd.read_csv(\"StudentsPerformance.csv\")\n",
    "\n",
    "df.head(10)"
   ]
  },
  {
   "cell_type": "code",
   "execution_count": 3,
   "id": "0e6b72ad",
   "metadata": {},
   "outputs": [
    {
     "name": "stdout",
     "output_type": "stream",
     "text": [
      "(1000, 8)\n"
     ]
    },
    {
     "data": {
      "text/html": [
       "<div>\n",
       "<style scoped>\n",
       "    .dataframe tbody tr th:only-of-type {\n",
       "        vertical-align: middle;\n",
       "    }\n",
       "\n",
       "    .dataframe tbody tr th {\n",
       "        vertical-align: top;\n",
       "    }\n",
       "\n",
       "    .dataframe thead th {\n",
       "        text-align: right;\n",
       "    }\n",
       "</style>\n",
       "<table border=\"1\" class=\"dataframe\">\n",
       "  <thead>\n",
       "    <tr style=\"text-align: right;\">\n",
       "      <th></th>\n",
       "      <th>math score</th>\n",
       "      <th>reading score</th>\n",
       "      <th>writing score</th>\n",
       "    </tr>\n",
       "  </thead>\n",
       "  <tbody>\n",
       "    <tr>\n",
       "      <th>count</th>\n",
       "      <td>1000.00000</td>\n",
       "      <td>1000.000000</td>\n",
       "      <td>1000.000000</td>\n",
       "    </tr>\n",
       "    <tr>\n",
       "      <th>mean</th>\n",
       "      <td>66.08900</td>\n",
       "      <td>69.169000</td>\n",
       "      <td>68.054000</td>\n",
       "    </tr>\n",
       "    <tr>\n",
       "      <th>std</th>\n",
       "      <td>15.16308</td>\n",
       "      <td>14.600192</td>\n",
       "      <td>15.195657</td>\n",
       "    </tr>\n",
       "    <tr>\n",
       "      <th>min</th>\n",
       "      <td>0.00000</td>\n",
       "      <td>17.000000</td>\n",
       "      <td>10.000000</td>\n",
       "    </tr>\n",
       "    <tr>\n",
       "      <th>25%</th>\n",
       "      <td>57.00000</td>\n",
       "      <td>59.000000</td>\n",
       "      <td>57.750000</td>\n",
       "    </tr>\n",
       "    <tr>\n",
       "      <th>50%</th>\n",
       "      <td>66.00000</td>\n",
       "      <td>70.000000</td>\n",
       "      <td>69.000000</td>\n",
       "    </tr>\n",
       "    <tr>\n",
       "      <th>75%</th>\n",
       "      <td>77.00000</td>\n",
       "      <td>79.000000</td>\n",
       "      <td>79.000000</td>\n",
       "    </tr>\n",
       "    <tr>\n",
       "      <th>max</th>\n",
       "      <td>100.00000</td>\n",
       "      <td>100.000000</td>\n",
       "      <td>100.000000</td>\n",
       "    </tr>\n",
       "  </tbody>\n",
       "</table>\n",
       "</div>"
      ],
      "text/plain": [
       "       math score  reading score  writing score\n",
       "count  1000.00000    1000.000000    1000.000000\n",
       "mean     66.08900      69.169000      68.054000\n",
       "std      15.16308      14.600192      15.195657\n",
       "min       0.00000      17.000000      10.000000\n",
       "25%      57.00000      59.000000      57.750000\n",
       "50%      66.00000      70.000000      69.000000\n",
       "75%      77.00000      79.000000      79.000000\n",
       "max     100.00000     100.000000     100.000000"
      ]
     },
     "execution_count": 3,
     "metadata": {},
     "output_type": "execute_result"
    }
   ],
   "source": [
    "print(df.shape) #size of data\n",
    "\n",
    "df.describe() #statistics on numeric data of dataframe"
   ]
  },
  {
   "cell_type": "markdown",
   "id": "29a91875",
   "metadata": {},
   "source": [
    "#### Given the summary above, let's say that the passing mark of the exam is 55. "
   ]
  },
  {
   "cell_type": "code",
   "execution_count": 4,
   "id": "60c14888",
   "metadata": {},
   "outputs": [],
   "source": [
    "passMark = 55"
   ]
  },
  {
   "cell_type": "code",
   "execution_count": 5,
   "id": "85073151",
   "metadata": {},
   "outputs": [],
   "source": [
    "df['Passed_Math'] = np.where(df['math score'] < passMark, 'F', 'P')\n",
    "df['Passed_Reading'] = np.where(df['reading score'] < passMark, 'F', 'P')\n",
    "df['Passed_Writing'] = np.where(df['writing score'] < passMark, 'F', 'P')"
   ]
  },
  {
   "cell_type": "code",
   "execution_count": 6,
   "id": "8f235723",
   "metadata": {},
   "outputs": [
    {
     "data": {
      "text/html": [
       "<div>\n",
       "<style scoped>\n",
       "    .dataframe tbody tr th:only-of-type {\n",
       "        vertical-align: middle;\n",
       "    }\n",
       "\n",
       "    .dataframe tbody tr th {\n",
       "        vertical-align: top;\n",
       "    }\n",
       "\n",
       "    .dataframe thead th {\n",
       "        text-align: right;\n",
       "    }\n",
       "</style>\n",
       "<table border=\"1\" class=\"dataframe\">\n",
       "  <thead>\n",
       "    <tr style=\"text-align: right;\">\n",
       "      <th></th>\n",
       "      <th>gender</th>\n",
       "      <th>race/ethnicity</th>\n",
       "      <th>parental level of education</th>\n",
       "      <th>lunch</th>\n",
       "      <th>test preparation course</th>\n",
       "      <th>math score</th>\n",
       "      <th>reading score</th>\n",
       "      <th>writing score</th>\n",
       "      <th>Passed_Math</th>\n",
       "      <th>Passed_Reading</th>\n",
       "      <th>Passed_Writing</th>\n",
       "    </tr>\n",
       "  </thead>\n",
       "  <tbody>\n",
       "    <tr>\n",
       "      <th>0</th>\n",
       "      <td>female</td>\n",
       "      <td>group B</td>\n",
       "      <td>bachelor's degree</td>\n",
       "      <td>standard</td>\n",
       "      <td>none</td>\n",
       "      <td>72</td>\n",
       "      <td>72</td>\n",
       "      <td>74</td>\n",
       "      <td>P</td>\n",
       "      <td>P</td>\n",
       "      <td>P</td>\n",
       "    </tr>\n",
       "    <tr>\n",
       "      <th>1</th>\n",
       "      <td>female</td>\n",
       "      <td>group C</td>\n",
       "      <td>some college</td>\n",
       "      <td>standard</td>\n",
       "      <td>completed</td>\n",
       "      <td>69</td>\n",
       "      <td>90</td>\n",
       "      <td>88</td>\n",
       "      <td>P</td>\n",
       "      <td>P</td>\n",
       "      <td>P</td>\n",
       "    </tr>\n",
       "    <tr>\n",
       "      <th>2</th>\n",
       "      <td>female</td>\n",
       "      <td>group B</td>\n",
       "      <td>master's degree</td>\n",
       "      <td>standard</td>\n",
       "      <td>none</td>\n",
       "      <td>90</td>\n",
       "      <td>95</td>\n",
       "      <td>93</td>\n",
       "      <td>P</td>\n",
       "      <td>P</td>\n",
       "      <td>P</td>\n",
       "    </tr>\n",
       "    <tr>\n",
       "      <th>3</th>\n",
       "      <td>male</td>\n",
       "      <td>group A</td>\n",
       "      <td>associate's degree</td>\n",
       "      <td>free/reduced</td>\n",
       "      <td>none</td>\n",
       "      <td>47</td>\n",
       "      <td>57</td>\n",
       "      <td>44</td>\n",
       "      <td>F</td>\n",
       "      <td>P</td>\n",
       "      <td>F</td>\n",
       "    </tr>\n",
       "    <tr>\n",
       "      <th>4</th>\n",
       "      <td>male</td>\n",
       "      <td>group C</td>\n",
       "      <td>some college</td>\n",
       "      <td>standard</td>\n",
       "      <td>none</td>\n",
       "      <td>76</td>\n",
       "      <td>78</td>\n",
       "      <td>75</td>\n",
       "      <td>P</td>\n",
       "      <td>P</td>\n",
       "      <td>P</td>\n",
       "    </tr>\n",
       "    <tr>\n",
       "      <th>5</th>\n",
       "      <td>female</td>\n",
       "      <td>group B</td>\n",
       "      <td>associate's degree</td>\n",
       "      <td>standard</td>\n",
       "      <td>none</td>\n",
       "      <td>71</td>\n",
       "      <td>83</td>\n",
       "      <td>78</td>\n",
       "      <td>P</td>\n",
       "      <td>P</td>\n",
       "      <td>P</td>\n",
       "    </tr>\n",
       "    <tr>\n",
       "      <th>6</th>\n",
       "      <td>female</td>\n",
       "      <td>group B</td>\n",
       "      <td>some college</td>\n",
       "      <td>standard</td>\n",
       "      <td>completed</td>\n",
       "      <td>88</td>\n",
       "      <td>95</td>\n",
       "      <td>92</td>\n",
       "      <td>P</td>\n",
       "      <td>P</td>\n",
       "      <td>P</td>\n",
       "    </tr>\n",
       "    <tr>\n",
       "      <th>7</th>\n",
       "      <td>male</td>\n",
       "      <td>group B</td>\n",
       "      <td>some college</td>\n",
       "      <td>free/reduced</td>\n",
       "      <td>none</td>\n",
       "      <td>40</td>\n",
       "      <td>43</td>\n",
       "      <td>39</td>\n",
       "      <td>F</td>\n",
       "      <td>F</td>\n",
       "      <td>F</td>\n",
       "    </tr>\n",
       "    <tr>\n",
       "      <th>8</th>\n",
       "      <td>male</td>\n",
       "      <td>group D</td>\n",
       "      <td>high school</td>\n",
       "      <td>free/reduced</td>\n",
       "      <td>completed</td>\n",
       "      <td>64</td>\n",
       "      <td>64</td>\n",
       "      <td>67</td>\n",
       "      <td>P</td>\n",
       "      <td>P</td>\n",
       "      <td>P</td>\n",
       "    </tr>\n",
       "    <tr>\n",
       "      <th>9</th>\n",
       "      <td>female</td>\n",
       "      <td>group B</td>\n",
       "      <td>high school</td>\n",
       "      <td>free/reduced</td>\n",
       "      <td>none</td>\n",
       "      <td>38</td>\n",
       "      <td>60</td>\n",
       "      <td>50</td>\n",
       "      <td>F</td>\n",
       "      <td>P</td>\n",
       "      <td>F</td>\n",
       "    </tr>\n",
       "  </tbody>\n",
       "</table>\n",
       "</div>"
      ],
      "text/plain": [
       "   gender race/ethnicity parental level of education         lunch  \\\n",
       "0  female        group B           bachelor's degree      standard   \n",
       "1  female        group C                some college      standard   \n",
       "2  female        group B             master's degree      standard   \n",
       "3    male        group A          associate's degree  free/reduced   \n",
       "4    male        group C                some college      standard   \n",
       "5  female        group B          associate's degree      standard   \n",
       "6  female        group B                some college      standard   \n",
       "7    male        group B                some college  free/reduced   \n",
       "8    male        group D                 high school  free/reduced   \n",
       "9  female        group B                 high school  free/reduced   \n",
       "\n",
       "  test preparation course  math score  reading score  writing score  \\\n",
       "0                    none          72             72             74   \n",
       "1               completed          69             90             88   \n",
       "2                    none          90             95             93   \n",
       "3                    none          47             57             44   \n",
       "4                    none          76             78             75   \n",
       "5                    none          71             83             78   \n",
       "6               completed          88             95             92   \n",
       "7                    none          40             43             39   \n",
       "8               completed          64             64             67   \n",
       "9                    none          38             60             50   \n",
       "\n",
       "  Passed_Math Passed_Reading Passed_Writing  \n",
       "0           P              P              P  \n",
       "1           P              P              P  \n",
       "2           P              P              P  \n",
       "3           F              P              F  \n",
       "4           P              P              P  \n",
       "5           P              P              P  \n",
       "6           P              P              P  \n",
       "7           F              F              F  \n",
       "8           P              P              P  \n",
       "9           F              P              F  "
      ]
     },
     "execution_count": 6,
     "metadata": {},
     "output_type": "execute_result"
    }
   ],
   "source": [
    "df.head(10)"
   ]
  },
  {
   "cell_type": "markdown",
   "id": "7206865b",
   "metadata": {},
   "source": [
    "#### Students Pass-Fail Math scores"
   ]
  },
  {
   "cell_type": "code",
   "execution_count": 7,
   "id": "f2a80cb0",
   "metadata": {},
   "outputs": [
    {
     "name": "stdout",
     "output_type": "stream",
     "text": [
      "Math Score: 77.90%\n"
     ]
    },
    {
     "data": {
      "text/plain": [
       "P    779\n",
       "F    221\n",
       "Name: Passed_Math, dtype: int64"
      ]
     },
     "execution_count": 7,
     "metadata": {},
     "output_type": "execute_result"
    }
   ],
   "source": [
    "percentMath = (df['Passed_Math']=='P').sum() / (len(df.index))\n",
    "print('Math Score: %.2f%%' % (percentMath*100))\n",
    "\n",
    "df.Passed_Math.value_counts()"
   ]
  },
  {
   "cell_type": "markdown",
   "id": "0b73658a",
   "metadata": {},
   "source": [
    "#### Students Pass-Fail Reading scores"
   ]
  },
  {
   "cell_type": "code",
   "execution_count": 8,
   "id": "7aea06ae",
   "metadata": {},
   "outputs": [
    {
     "name": "stdout",
     "output_type": "stream",
     "text": [
      "Reading Score: 84.00%\n"
     ]
    },
    {
     "data": {
      "text/plain": [
       "P    840\n",
       "F    160\n",
       "Name: Passed_Reading, dtype: int64"
      ]
     },
     "execution_count": 8,
     "metadata": {},
     "output_type": "execute_result"
    }
   ],
   "source": [
    "percentReading = (df['Passed_Reading']=='P').sum() / (len(df.index))\n",
    "print('Reading Score: %.2f%%' % (percentReading*100))\n",
    "\n",
    "df.Passed_Reading.value_counts()"
   ]
  },
  {
   "cell_type": "markdown",
   "id": "413afdce",
   "metadata": {},
   "source": [
    "#### Students Pass-Fail Writing scores"
   ]
  },
  {
   "cell_type": "code",
   "execution_count": 9,
   "id": "0978d21f",
   "metadata": {},
   "outputs": [
    {
     "name": "stdout",
     "output_type": "stream",
     "text": [
      "Writing Score: 79.70%\n"
     ]
    },
    {
     "data": {
      "text/plain": [
       "P    797\n",
       "F    203\n",
       "Name: Passed_Writing, dtype: int64"
      ]
     },
     "execution_count": 9,
     "metadata": {},
     "output_type": "execute_result"
    }
   ],
   "source": [
    "percentWriting = (df['Passed_Writing']=='P').sum() / len(df.index)\n",
    "print('Writing Score: %.2f%%' % (percentWriting*100))\n",
    "\n",
    "df.Passed_Writing.value_counts()"
   ]
  },
  {
   "cell_type": "markdown",
   "id": "57fe8afe",
   "metadata": {},
   "source": [
    "#### Considering that most institution's passing rates among classes is around 80%, the scores of the students reflect an average ratio of pass/fail"
   ]
  },
  {
   "cell_type": "markdown",
   "id": "7c18fead",
   "metadata": {},
   "source": [
    "#### An indicator of good academic standing for a student is passing all classes. Retrieve stats of students whose scores all passed"
   ]
  },
  {
   "cell_type": "code",
   "execution_count": 10,
   "id": "59d3cc61",
   "metadata": {},
   "outputs": [],
   "source": [
    "df['All_Pass_Status'] = df.apply(lambda x: 'P' if x.Passed_Math == 'P' and x.Passed_Reading == 'P' and x.Passed_Writing == 'P' else 'F', axis=1)"
   ]
  },
  {
   "cell_type": "code",
   "execution_count": 11,
   "id": "53227ebd",
   "metadata": {},
   "outputs": [
    {
     "name": "stdout",
     "output_type": "stream",
     "text": [
      "All Class Passed Percentage: 70.60%\n"
     ]
    },
    {
     "data": {
      "text/plain": [
       "P    706\n",
       "F    294\n",
       "Name: All_Pass_Status, dtype: int64"
      ]
     },
     "execution_count": 11,
     "metadata": {},
     "output_type": "execute_result"
    }
   ],
   "source": [
    "percentStudentsPassed = (df['All_Pass_Status']=='P').sum() / len(df.index)\n",
    "print(\"All Class Passed Percentage: %.2f%%\" % (percentStudentsPassed*100))\n",
    "df.All_Pass_Status.value_counts()"
   ]
  },
  {
   "cell_type": "code",
   "execution_count": 12,
   "id": "1ceba08d",
   "metadata": {},
   "outputs": [
    {
     "data": {
      "image/png": "[encoded data removed]",
      "text/plain": [
       "<Figure size 640x480 with 1 Axes>"
      ]
     },
     "metadata": {},
     "output_type": "display_data"
    }
   ],
   "source": [
    "import seaborn as sns\n",
    "\n",
    "graphA = sns.countplot(x='parental level of education', data=df, hue=\"All_Pass_Status\")\n",
    "_ = plt.setp(graphA.get_xticklabels(), rotation=90)"
   ]
  },
  {
   "cell_type": "code",
   "execution_count": 13,
   "id": "ab458dad",
   "metadata": {},
   "outputs": [
    {
     "name": "stdout",
     "output_type": "stream",
     "text": [
      "Students passed percentage whose parents finished high school: 61.22%\n"
     ]
    }
   ],
   "source": [
    "#ratio of parents with high school as highest education level\n",
    "highSchool_count = (df['parental level of education']=='high school').sum()\n",
    "highSchool_ratio = highSchool_count  / len(df.index)\n",
    "\n",
    "#ratio of parents with unfinished high school\n",
    "someHighSchool_count = (df['parental level of education']=='some high school').sum()\n",
    "someHighSchool_ratio= someHighSchool_count / len(df.index)\n",
    "\n",
    "someCollege_count = (df['parental level of education']=='some college').sum()\n",
    "\n",
    "pass_array = np.where((df['parental level of education']=='high school') & (df['All_Pass_Status']=='P'), True, False)\n",
    "pass_ratio = np.count_nonzero(pass_array == True) / highSchool_count\n",
    "print('Students passed percentage whose parents finished high school: %.2f%%' % (pass_ratio*100))"
   ]
  },
  {
   "cell_type": "code",
   "execution_count": 14,
   "id": "8db9637d",
   "metadata": {},
   "outputs": [
    {
     "name": "stdout",
     "output_type": "stream",
     "text": [
      "Students passed percentage whose parents finished some high school: 64.80%\n"
     ]
    }
   ],
   "source": [
    "pass_array = np.where((df['parental level of education']=='some high school') & (df['All_Pass_Status']=='P'), True, False)\n",
    "pass_ratio = np.count_nonzero(pass_array == True) / someHighSchool_count\n",
    "print('Students passed percentage whose parents finished some high school: %.2f%%' % (pass_ratio*100))"
   ]
  },
  {
   "cell_type": "markdown",
   "id": "c4f27e84",
   "metadata": {},
   "source": [
    "#### Students whose parents finished high school had a score failure rate of 48.78%. For students whose parents only finished some high school, the score failure rate was 45.20%."
   ]
  },
  {
   "cell_type": "code",
   "execution_count": 15,
   "id": "18b76752",
   "metadata": {},
   "outputs": [
    {
     "name": "stdout",
     "output_type": "stream",
     "text": [
      "Students passed with parents with bachelor's degree: 80.51%\n"
     ]
    }
   ],
   "source": [
    "bachelor_count = (df['parental level of education'] == 'bachelor\\'s degree').sum()\n",
    "pass_array = np.where(((df['parental level of education'] == 'bachelor\\'s degree') & (df['All_Pass_Status']=='P')), True, False)\n",
    "pass_ratio = np.count_nonzero(pass_array == True) / bachelor_count\n",
    "print('Students passed with parents with bachelor\\'s degree: %.2f%%' % (pass_ratio*100))"
   ]
  },
  {
   "cell_type": "code",
   "execution_count": 16,
   "id": "dde7126f",
   "metadata": {},
   "outputs": [
    {
     "name": "stdout",
     "output_type": "stream",
     "text": [
      "Students passed with parents with associate's degree: 72.07%\n"
     ]
    }
   ],
   "source": [
    "associate_count = (df['parental level of education']=='associate\\'s degree').sum()\n",
    "pass_array = np.where(((df['parental level of education']=='associate\\'s degree') & (df['All_Pass_Status']=='P')), True, False)\n",
    "pass_ratio = np.count_nonzero(pass_array == True) / associate_count\n",
    "print('Students passed with parents with associate\\'s degree: %.2f%%' % (pass_ratio*100))"
   ]
  },
  {
   "cell_type": "markdown",
   "id": "5ed13c26",
   "metadata": {},
   "source": [
    "#### For students whose parents who finished with college (AS, BS), the passing rate significantly increased. For instance, students whose parents finished a bachelors degree had a 19.22% increase from the rate of students whose parents only finished high school. From a sociological viewpoint, the impact of a college degree correlates to the success of an individual in academic scores."
   ]
  },
  {
   "cell_type": "code",
   "execution_count": 17,
   "id": "e3e3651e",
   "metadata": {},
   "outputs": [
    {
     "data": {
      "text/html": [
       "<div>\n",
       "<style scoped>\n",
       "    .dataframe tbody tr th:only-of-type {\n",
       "        vertical-align: middle;\n",
       "    }\n",
       "\n",
       "    .dataframe tbody tr th {\n",
       "        vertical-align: top;\n",
       "    }\n",
       "\n",
       "    .dataframe thead th {\n",
       "        text-align: right;\n",
       "    }\n",
       "</style>\n",
       "<table border=\"1\" class=\"dataframe\">\n",
       "  <thead>\n",
       "    <tr style=\"text-align: right;\">\n",
       "      <th></th>\n",
       "      <th>gender</th>\n",
       "      <th>race/ethnicity</th>\n",
       "      <th>parental level of education</th>\n",
       "      <th>lunch</th>\n",
       "      <th>test preparation course</th>\n",
       "      <th>math score</th>\n",
       "      <th>reading score</th>\n",
       "      <th>writing score</th>\n",
       "      <th>Passed_Math</th>\n",
       "      <th>Passed_Reading</th>\n",
       "      <th>Passed_Writing</th>\n",
       "      <th>All_Pass_Status</th>\n",
       "      <th>Two_Class_Pass</th>\n",
       "      <th>average of all scores</th>\n",
       "    </tr>\n",
       "  </thead>\n",
       "  <tbody>\n",
       "    <tr>\n",
       "      <th>0</th>\n",
       "      <td>female</td>\n",
       "      <td>group B</td>\n",
       "      <td>bachelor's degree</td>\n",
       "      <td>standard</td>\n",
       "      <td>none</td>\n",
       "      <td>72</td>\n",
       "      <td>72</td>\n",
       "      <td>74</td>\n",
       "      <td>P</td>\n",
       "      <td>P</td>\n",
       "      <td>P</td>\n",
       "      <td>P</td>\n",
       "      <td>T</td>\n",
       "      <td>72.67</td>\n",
       "    </tr>\n",
       "    <tr>\n",
       "      <th>1</th>\n",
       "      <td>female</td>\n",
       "      <td>group C</td>\n",
       "      <td>some college</td>\n",
       "      <td>standard</td>\n",
       "      <td>completed</td>\n",
       "      <td>69</td>\n",
       "      <td>90</td>\n",
       "      <td>88</td>\n",
       "      <td>P</td>\n",
       "      <td>P</td>\n",
       "      <td>P</td>\n",
       "      <td>P</td>\n",
       "      <td>T</td>\n",
       "      <td>82.33</td>\n",
       "    </tr>\n",
       "    <tr>\n",
       "      <th>2</th>\n",
       "      <td>female</td>\n",
       "      <td>group B</td>\n",
       "      <td>master's degree</td>\n",
       "      <td>standard</td>\n",
       "      <td>none</td>\n",
       "      <td>90</td>\n",
       "      <td>95</td>\n",
       "      <td>93</td>\n",
       "      <td>P</td>\n",
       "      <td>P</td>\n",
       "      <td>P</td>\n",
       "      <td>P</td>\n",
       "      <td>T</td>\n",
       "      <td>92.67</td>\n",
       "    </tr>\n",
       "    <tr>\n",
       "      <th>3</th>\n",
       "      <td>male</td>\n",
       "      <td>group A</td>\n",
       "      <td>associate's degree</td>\n",
       "      <td>free/reduced</td>\n",
       "      <td>none</td>\n",
       "      <td>47</td>\n",
       "      <td>57</td>\n",
       "      <td>44</td>\n",
       "      <td>F</td>\n",
       "      <td>P</td>\n",
       "      <td>F</td>\n",
       "      <td>F</td>\n",
       "      <td>F</td>\n",
       "      <td>49.33</td>\n",
       "    </tr>\n",
       "    <tr>\n",
       "      <th>4</th>\n",
       "      <td>male</td>\n",
       "      <td>group C</td>\n",
       "      <td>some college</td>\n",
       "      <td>standard</td>\n",
       "      <td>none</td>\n",
       "      <td>76</td>\n",
       "      <td>78</td>\n",
       "      <td>75</td>\n",
       "      <td>P</td>\n",
       "      <td>P</td>\n",
       "      <td>P</td>\n",
       "      <td>P</td>\n",
       "      <td>T</td>\n",
       "      <td>76.33</td>\n",
       "    </tr>\n",
       "  </tbody>\n",
       "</table>\n",
       "</div>"
      ],
      "text/plain": [
       "   gender race/ethnicity parental level of education         lunch  \\\n",
       "0  female        group B           bachelor's degree      standard   \n",
       "1  female        group C                some college      standard   \n",
       "2  female        group B             master's degree      standard   \n",
       "3    male        group A          associate's degree  free/reduced   \n",
       "4    male        group C                some college      standard   \n",
       "\n",
       "  test preparation course  math score  reading score  writing score  \\\n",
       "0                    none          72             72             74   \n",
       "1               completed          69             90             88   \n",
       "2                    none          90             95             93   \n",
       "3                    none          47             57             44   \n",
       "4                    none          76             78             75   \n",
       "\n",
       "  Passed_Math Passed_Reading Passed_Writing All_Pass_Status Two_Class_Pass  \\\n",
       "0           P              P              P               P              T   \n",
       "1           P              P              P               P              T   \n",
       "2           P              P              P               P              T   \n",
       "3           F              P              F               F              F   \n",
       "4           P              P              P               P              T   \n",
       "\n",
       "   average of all scores  \n",
       "0                  72.67  \n",
       "1                  82.33  \n",
       "2                  92.67  \n",
       "3                  49.33  \n",
       "4                  76.33  "
      ]
     },
     "execution_count": 17,
     "metadata": {},
     "output_type": "execute_result"
    }
   ],
   "source": [
    "df['Two_Class_Pass'] = df.apply(lambda x: 'T' if (x.Passed_Math == 'P' and x.Passed_Reading == 'P') \n",
    "                        or (x.Passed_Math == 'P' and x.Passed_Writing == 'P') \n",
    "                        or (x.Passed_Reading == 'P' and x.Passed_Writing == 'P') else 'F', axis=1)\n",
    "\n",
    "df['average of all scores'] = df.apply(lambda x: round((x['math score']+x['reading score']+x['writing score'])/3, 2), axis=1)\n",
    "\n",
    "df.head(5)"
   ]
  },
  {
   "cell_type": "markdown",
   "id": "7c6913fa",
   "metadata": {},
   "source": [
    "#### Let's consider a good academic standing where two classes passed AND at least 55 is the average of all scores is the benchmark."
   ]
  },
  {
   "cell_type": "code",
   "execution_count": 18,
   "id": "30a0fe3d",
   "metadata": {},
   "outputs": [
    {
     "name": "stdout",
     "output_type": "stream",
     "text": [
      "Two Classes Passed Percentage: 82.30%\n"
     ]
    },
    {
     "data": {
      "text/plain": [
       "T    823\n",
       "F    177\n",
       "Name: Two_Class_Pass, dtype: int64"
      ]
     },
     "execution_count": 18,
     "metadata": {},
     "output_type": "execute_result"
    }
   ],
   "source": [
    "percent_passed = (df['Two_Class_Pass']=='T').sum() / len(df.index)\n",
    "print('Two Classes Passed Percentage: %.2f%%' % (percent_passed*100))\n",
    "df['Two_Class_Pass'].value_counts()"
   ]
  },
  {
   "cell_type": "code",
   "execution_count": 19,
   "id": "9392e5df",
   "metadata": {},
   "outputs": [
    {
     "name": "stdout",
     "output_type": "stream",
     "text": [
      "Students with passing average of all scores: 809\n"
     ]
    }
   ],
   "source": [
    "pass_average_count = (df['average of all scores'] >= 55).sum()\n",
    "print(\"Students with passing average of all scores: %d\" % (pass_average_count))"
   ]
  },
  {
   "cell_type": "code",
   "execution_count": 20,
   "id": "c7f5a8cd",
   "metadata": {},
   "outputs": [
    {
     "name": "stdout",
     "output_type": "stream",
     "text": [
      "Students with good academic standing: 80.50%\n"
     ]
    }
   ],
   "source": [
    "good_standing_ratio = (((df['Two_Class_Pass']=='T') & (df['average of all scores'] >= 55)).sum()) / (len(df.index))\n",
    "print(\"Students with good academic standing: %.2f%%\" % (good_standing_ratio*100))"
   ]
  },
  {
   "cell_type": "code",
   "execution_count": 21,
   "id": "d72ab646",
   "metadata": {},
   "outputs": [],
   "source": [
    "#student whose parents completed high school and have good academic standing\n",
    "ratioA = ((df['parental level of education']=='high school') & (df['average of all scores'] >= 55) &\n",
    "            (df['Two_Class_Pass']=='T')).sum() / highSchool_count\n",
    "\n",
    "#student whose parents did not complete high school and have good academic standing\n",
    "ratioB = ((df['parental level of education']=='some high school') & (df['average of all scores'] >= 55) &\n",
    "            (df['Two_Class_Pass']=='T')).sum() / someHighSchool_count\n",
    "\n",
    "ratioF = ((df['parental level of education'] =='some college') & (df['average of all scores'] >= 55) &\n",
    "            (df['Two_Class_Pass']=='T')).sum() / someCollege_count"
   ]
  },
  {
   "cell_type": "code",
   "execution_count": 22,
   "id": "9e5bdee2",
   "metadata": {},
   "outputs": [],
   "source": [
    "#students whose parents completed bachelors and have good academic standing\n",
    "ratioC =((df['parental level of education']=='associate\\'s degree') & (df['average of all scores'] >= 55) &\n",
    "            (df['Two_Class_Pass']=='T')).sum() / associate_count\n",
    "\n",
    "#students whose parents completed associate's and have a good academic standing\n",
    "ratioD =((df['parental level of education']=='bachelor\\'s degree') & (df['average of all scores'] >= 55) &\n",
    "            (df['Two_Class_Pass']=='T')).sum() / bachelor_count\n",
    "\n",
    "#students whose parents completed master's and have a good academic standing\n",
    "master_count = (df['parental level of education']=='master\\'s degree').sum()\n",
    "ratioE =((df['parental level of education']=='master\\'s degree') & (df['average of all scores'] >= 55) &\n",
    "            (df['Two_Class_Pass']=='T')).sum() / master_count"
   ]
  },
  {
   "cell_type": "code",
   "execution_count": 23,
   "id": "c9b1b631",
   "metadata": {},
   "outputs": [
    {
     "data": {
      "image/png": "[encoded data removed]",
      "text/plain": [
       "<Figure size 640x480 with 1 Axes>"
      ]
     },
     "metadata": {},
     "output_type": "display_data"
    }
   ],
   "source": [
    "standing_comparison = [74.86, 70.41, 84.96, 82.43, 89.83, 88.14]\n",
    "standing_comparison = [(100-i) for i in standing_comparison]\n",
    "labels = ['some high school', 'High School','some college', 'associates', 'bachelors', 'masters']\n",
    "standing_pos = np.arange(len(labels))\n",
    "\n",
    "plt.bar(standing_pos, standing_comparison)\n",
    "plt.xticks(standing_pos, labels, rotation=90)\n",
    "plt.title(\"Rate of students who did not meet two classes passed and an average of 55\")\n",
    "plt.show()"
   ]
  },
  {
   "cell_type": "code",
   "execution_count": 24,
   "id": "3e892fdd",
   "metadata": {},
   "outputs": [
    {
     "name": "stdout",
     "output_type": "stream",
     "text": [
      "Good Academic Standing whose parents finished some high school: 74.86%\n",
      "Good Academic Standing whose parents finished high school: 70.41%\n",
      "Good Academic Standing whose parents finished some college: 84.96%\n",
      "Good Academic Standing whose parents have associates: 82.43%\n",
      "Good Academic Standing whose parents have bachelors: 89.83%\n",
      "Good Academic Standing whose parents have masters: 88.14%\n"
     ]
    }
   ],
   "source": [
    "print('Good Academic Standing whose parents finished some high school: %.2f%%' % (ratioB*100))\n",
    "print('Good Academic Standing whose parents finished high school: %.2f%%' % (ratioA*100))\n",
    "print('Good Academic Standing whose parents finished some college: %.2f%%' % (ratioF*100))\n",
    "print('Good Academic Standing whose parents have associates: %.2f%%' % (ratioC*100))\n",
    "print('Good Academic Standing whose parents have bachelors: %.2f%%' % (ratioD*100))\n",
    "print('Good Academic Standing whose parents have masters: %.2f%%' % (ratioE*100))"
   ]
  },
  {
   "cell_type": "code",
   "execution_count": 25,
   "id": "9d12e1a1",
   "metadata": {},
   "outputs": [
    {
     "data": {
      "text/plain": [
       "[Text(0, 0, \"bachelor's degree\"),\n",
       " Text(1, 0, 'some college'),\n",
       " Text(2, 0, \"master's degree\"),\n",
       " Text(3, 0, \"associate's degree\"),\n",
       " Text(4, 0, 'high school'),\n",
       " Text(5, 0, 'some high school')]"
      ]
     },
     "execution_count": 25,
     "metadata": {},
     "output_type": "execute_result"
    },
    {
     "data": {
      "image/png": "[encoded data removed]",
      "text/plain": [
       "<Figure size 640x480 with 1 Axes>"
      ]
     },
     "metadata": {},
     "output_type": "display_data"
    }
   ],
   "source": [
    "score_list = df.groupby('parental level of education')['average of all scores'].sum()\n",
    "\n",
    "someHighSchool_average = score_list['some high school'] / someHighSchool_count\n",
    "highSchool_average = score_list['high school'] / highSchool_count\n",
    "someCollege_average = score_list['some college'] / someCollege_count\n",
    "associate_average = score_list['associate\\'s degree'] / associate_count\n",
    "bachelor_average = score_list['bachelor\\'s degree'] / bachelor_count\n",
    "masters_average = score_list['master\\'s degree'] / master_count\n",
    "\n",
    "average_comparison = [someHighSchool_average, highSchool_average, someCollege_average, associate_average, bachelor_average,\n",
    "                        masters_average]\n",
    "\n",
    "graphC = sns.boxplot(x=df['parental level of education'], y=df['average of all scores'])\n",
    "graphC.set_xticklabels(graphC.get_xticklabels(), rotation=30)"
   ]
  },
  {
   "cell_type": "markdown",
   "id": "54a5d9f3",
   "metadata": {},
   "source": [
    "#### A study published by the U.S. Education Department’s National Center for Education Statistics revealed that 1/3 of first-generation students dropped out after three years in college, as compared to 14% of students whose parents have degrees.\n",
    "\n",
    "##### SOURCE: U.S. Department of Education, National Center for Education Statistics, 2018 First-Generation Students: College Access, Persistence, and Postbachelor’s Outcomes"
   ]
  },
  {
   "cell_type": "code",
   "execution_count": 26,
   "id": "c1207de2",
   "metadata": {},
   "outputs": [
    {
     "data": {
      "text/plain": [
       "<Axes: title={'center': 'Ratio of free/reduced and standard lunch plans among students'}>"
      ]
     },
     "execution_count": 26,
     "metadata": {},
     "output_type": "execute_result"
    },
    {
     "data": {
      "image/png": "[encoded data removed]",
      "text/plain": [
       "<Figure size 640x480 with 1 Axes>"
      ]
     },
     "metadata": {},
     "output_type": "display_data"
    }
   ],
   "source": [
    "df.groupby('lunch').size().plot(kind='pie', title=\"Ratio of free/reduced and standard lunch plans among students\",\n",
    "                                autopct='%.2f')"
   ]
  },
  {
   "cell_type": "markdown",
   "id": "fba4df0d",
   "metadata": {},
   "source": [
    "#### The number of free/reduced lunch plans is a surprisingly higher at more than a 1/3 of students in the plan."
   ]
  },
  {
   "cell_type": "code",
   "execution_count": 27,
   "id": "8ff224a0",
   "metadata": {},
   "outputs": [
    {
     "data": {
      "text/html": [
       "<div>\n",
       "<style scoped>\n",
       "    .dataframe tbody tr th:only-of-type {\n",
       "        vertical-align: middle;\n",
       "    }\n",
       "\n",
       "    .dataframe tbody tr th {\n",
       "        vertical-align: top;\n",
       "    }\n",
       "\n",
       "    .dataframe thead th {\n",
       "        text-align: right;\n",
       "    }\n",
       "</style>\n",
       "<table border=\"1\" class=\"dataframe\">\n",
       "  <thead>\n",
       "    <tr style=\"text-align: right;\">\n",
       "      <th></th>\n",
       "      <th>gender</th>\n",
       "      <th>race/ethnicity</th>\n",
       "      <th>parental level of education</th>\n",
       "      <th>lunch</th>\n",
       "      <th>test preparation course</th>\n",
       "      <th>math score</th>\n",
       "      <th>reading score</th>\n",
       "      <th>writing score</th>\n",
       "      <th>Passed_Math</th>\n",
       "      <th>Passed_Reading</th>\n",
       "      <th>Passed_Writing</th>\n",
       "      <th>All_Pass_Status</th>\n",
       "      <th>Two_Class_Pass</th>\n",
       "      <th>average of all scores</th>\n",
       "    </tr>\n",
       "  </thead>\n",
       "  <tbody>\n",
       "    <tr>\n",
       "      <th>3</th>\n",
       "      <td>male</td>\n",
       "      <td>group A</td>\n",
       "      <td>associate's degree</td>\n",
       "      <td>free/reduced</td>\n",
       "      <td>none</td>\n",
       "      <td>47</td>\n",
       "      <td>57</td>\n",
       "      <td>44</td>\n",
       "      <td>F</td>\n",
       "      <td>P</td>\n",
       "      <td>F</td>\n",
       "      <td>F</td>\n",
       "      <td>F</td>\n",
       "      <td>49.33</td>\n",
       "    </tr>\n",
       "    <tr>\n",
       "      <th>7</th>\n",
       "      <td>male</td>\n",
       "      <td>group B</td>\n",
       "      <td>some college</td>\n",
       "      <td>free/reduced</td>\n",
       "      <td>none</td>\n",
       "      <td>40</td>\n",
       "      <td>43</td>\n",
       "      <td>39</td>\n",
       "      <td>F</td>\n",
       "      <td>F</td>\n",
       "      <td>F</td>\n",
       "      <td>F</td>\n",
       "      <td>F</td>\n",
       "      <td>40.67</td>\n",
       "    </tr>\n",
       "    <tr>\n",
       "      <th>8</th>\n",
       "      <td>male</td>\n",
       "      <td>group D</td>\n",
       "      <td>high school</td>\n",
       "      <td>free/reduced</td>\n",
       "      <td>completed</td>\n",
       "      <td>64</td>\n",
       "      <td>64</td>\n",
       "      <td>67</td>\n",
       "      <td>P</td>\n",
       "      <td>P</td>\n",
       "      <td>P</td>\n",
       "      <td>P</td>\n",
       "      <td>T</td>\n",
       "      <td>65.00</td>\n",
       "    </tr>\n",
       "    <tr>\n",
       "      <th>9</th>\n",
       "      <td>female</td>\n",
       "      <td>group B</td>\n",
       "      <td>high school</td>\n",
       "      <td>free/reduced</td>\n",
       "      <td>none</td>\n",
       "      <td>38</td>\n",
       "      <td>60</td>\n",
       "      <td>50</td>\n",
       "      <td>F</td>\n",
       "      <td>P</td>\n",
       "      <td>F</td>\n",
       "      <td>F</td>\n",
       "      <td>F</td>\n",
       "      <td>49.33</td>\n",
       "    </tr>\n",
       "    <tr>\n",
       "      <th>17</th>\n",
       "      <td>female</td>\n",
       "      <td>group B</td>\n",
       "      <td>some high school</td>\n",
       "      <td>free/reduced</td>\n",
       "      <td>none</td>\n",
       "      <td>18</td>\n",
       "      <td>32</td>\n",
       "      <td>28</td>\n",
       "      <td>F</td>\n",
       "      <td>F</td>\n",
       "      <td>F</td>\n",
       "      <td>F</td>\n",
       "      <td>F</td>\n",
       "      <td>26.00</td>\n",
       "    </tr>\n",
       "  </tbody>\n",
       "</table>\n",
       "</div>"
      ],
      "text/plain": [
       "    gender race/ethnicity parental level of education         lunch  \\\n",
       "3     male        group A          associate's degree  free/reduced   \n",
       "7     male        group B                some college  free/reduced   \n",
       "8     male        group D                 high school  free/reduced   \n",
       "9   female        group B                 high school  free/reduced   \n",
       "17  female        group B            some high school  free/reduced   \n",
       "\n",
       "   test preparation course  math score  reading score  writing score  \\\n",
       "3                     none          47             57             44   \n",
       "7                     none          40             43             39   \n",
       "8                completed          64             64             67   \n",
       "9                     none          38             60             50   \n",
       "17                    none          18             32             28   \n",
       "\n",
       "   Passed_Math Passed_Reading Passed_Writing All_Pass_Status Two_Class_Pass  \\\n",
       "3            F              P              F               F              F   \n",
       "7            F              F              F               F              F   \n",
       "8            P              P              P               P              T   \n",
       "9            F              P              F               F              F   \n",
       "17           F              F              F               F              F   \n",
       "\n",
       "    average of all scores  \n",
       "3                   49.33  \n",
       "7                   40.67  \n",
       "8                   65.00  \n",
       "9                   49.33  \n",
       "17                  26.00  "
      ]
     },
     "execution_count": 27,
     "metadata": {},
     "output_type": "execute_result"
    }
   ],
   "source": [
    "df_free = df[df['lunch']=='free/reduced']\n",
    "\n",
    "df_free.head(5)"
   ]
  },
  {
   "cell_type": "code",
   "execution_count": 28,
   "id": "9aa198be",
   "metadata": {},
   "outputs": [
    {
     "data": {
      "text/plain": [
       "<Axes: title={'center': \"distribution of parent's degree of education among free/reduced lunch plans\"}>"
      ]
     },
     "execution_count": 28,
     "metadata": {},
     "output_type": "execute_result"
    },
    {
     "data": {
      "image/png": "[encoded data removed]",
      "text/plain": [
       "<Figure size 640x480 with 1 Axes>"
      ]
     },
     "metadata": {},
     "output_type": "display_data"
    }
   ],
   "source": [
    "df_free.groupby('parental level of education').size().plot(kind='pie', \n",
    "                title = \"distribution of parent's degree of education among free/reduced lunch plans\", autopct='%.2f')"
   ]
  },
  {
   "cell_type": "markdown",
   "id": "b1df7abd",
   "metadata": {},
   "source": [
    "#### Students of parents with no degree (high school, some high school, some college) made up nearly 60% of the students under the free/reduced lunch plan. For students with parents of bachelors and masters, they constitute less 1/5 of the distribution."
   ]
  },
  {
   "cell_type": "code",
   "execution_count": 30,
   "id": "299db890",
   "metadata": {},
   "outputs": [
    {
     "data": {
      "text/html": [
       "<div>\n",
       "<style scoped>\n",
       "    .dataframe tbody tr th:only-of-type {\n",
       "        vertical-align: middle;\n",
       "    }\n",
       "\n",
       "    .dataframe tbody tr th {\n",
       "        vertical-align: top;\n",
       "    }\n",
       "\n",
       "    .dataframe thead th {\n",
       "        text-align: right;\n",
       "    }\n",
       "</style>\n",
       "<table border=\"1\" class=\"dataframe\">\n",
       "  <thead>\n",
       "    <tr style=\"text-align: right;\">\n",
       "      <th></th>\n",
       "      <th>gender</th>\n",
       "      <th>race/ethnicity</th>\n",
       "      <th>parental level of education</th>\n",
       "      <th>lunch</th>\n",
       "      <th>test preparation course</th>\n",
       "      <th>math score</th>\n",
       "      <th>reading score</th>\n",
       "      <th>writing score</th>\n",
       "      <th>Passed_Math</th>\n",
       "      <th>Passed_Reading</th>\n",
       "      <th>Passed_Writing</th>\n",
       "      <th>All_Pass_Status</th>\n",
       "      <th>Two_Class_Pass</th>\n",
       "      <th>average of all scores</th>\n",
       "    </tr>\n",
       "  </thead>\n",
       "  <tbody>\n",
       "    <tr>\n",
       "      <th>0</th>\n",
       "      <td>female</td>\n",
       "      <td>group B</td>\n",
       "      <td>bachelor's degree</td>\n",
       "      <td>standard</td>\n",
       "      <td>none</td>\n",
       "      <td>72</td>\n",
       "      <td>72</td>\n",
       "      <td>74</td>\n",
       "      <td>P</td>\n",
       "      <td>P</td>\n",
       "      <td>P</td>\n",
       "      <td>P</td>\n",
       "      <td>T</td>\n",
       "      <td>72.67</td>\n",
       "    </tr>\n",
       "    <tr>\n",
       "      <th>2</th>\n",
       "      <td>female</td>\n",
       "      <td>group B</td>\n",
       "      <td>master's degree</td>\n",
       "      <td>standard</td>\n",
       "      <td>none</td>\n",
       "      <td>90</td>\n",
       "      <td>95</td>\n",
       "      <td>93</td>\n",
       "      <td>P</td>\n",
       "      <td>P</td>\n",
       "      <td>P</td>\n",
       "      <td>P</td>\n",
       "      <td>T</td>\n",
       "      <td>92.67</td>\n",
       "    </tr>\n",
       "    <tr>\n",
       "      <th>3</th>\n",
       "      <td>male</td>\n",
       "      <td>group A</td>\n",
       "      <td>associate's degree</td>\n",
       "      <td>free/reduced</td>\n",
       "      <td>none</td>\n",
       "      <td>47</td>\n",
       "      <td>57</td>\n",
       "      <td>44</td>\n",
       "      <td>F</td>\n",
       "      <td>P</td>\n",
       "      <td>F</td>\n",
       "      <td>F</td>\n",
       "      <td>F</td>\n",
       "      <td>49.33</td>\n",
       "    </tr>\n",
       "    <tr>\n",
       "      <th>4</th>\n",
       "      <td>male</td>\n",
       "      <td>group C</td>\n",
       "      <td>some college</td>\n",
       "      <td>standard</td>\n",
       "      <td>none</td>\n",
       "      <td>76</td>\n",
       "      <td>78</td>\n",
       "      <td>75</td>\n",
       "      <td>P</td>\n",
       "      <td>P</td>\n",
       "      <td>P</td>\n",
       "      <td>P</td>\n",
       "      <td>T</td>\n",
       "      <td>76.33</td>\n",
       "    </tr>\n",
       "    <tr>\n",
       "      <th>5</th>\n",
       "      <td>female</td>\n",
       "      <td>group B</td>\n",
       "      <td>associate's degree</td>\n",
       "      <td>standard</td>\n",
       "      <td>none</td>\n",
       "      <td>71</td>\n",
       "      <td>83</td>\n",
       "      <td>78</td>\n",
       "      <td>P</td>\n",
       "      <td>P</td>\n",
       "      <td>P</td>\n",
       "      <td>P</td>\n",
       "      <td>T</td>\n",
       "      <td>77.33</td>\n",
       "    </tr>\n",
       "    <tr>\n",
       "      <th>7</th>\n",
       "      <td>male</td>\n",
       "      <td>group B</td>\n",
       "      <td>some college</td>\n",
       "      <td>free/reduced</td>\n",
       "      <td>none</td>\n",
       "      <td>40</td>\n",
       "      <td>43</td>\n",
       "      <td>39</td>\n",
       "      <td>F</td>\n",
       "      <td>F</td>\n",
       "      <td>F</td>\n",
       "      <td>F</td>\n",
       "      <td>F</td>\n",
       "      <td>40.67</td>\n",
       "    </tr>\n",
       "    <tr>\n",
       "      <th>9</th>\n",
       "      <td>female</td>\n",
       "      <td>group B</td>\n",
       "      <td>high school</td>\n",
       "      <td>free/reduced</td>\n",
       "      <td>none</td>\n",
       "      <td>38</td>\n",
       "      <td>60</td>\n",
       "      <td>50</td>\n",
       "      <td>F</td>\n",
       "      <td>P</td>\n",
       "      <td>F</td>\n",
       "      <td>F</td>\n",
       "      <td>F</td>\n",
       "      <td>49.33</td>\n",
       "    </tr>\n",
       "    <tr>\n",
       "      <th>10</th>\n",
       "      <td>male</td>\n",
       "      <td>group C</td>\n",
       "      <td>associate's degree</td>\n",
       "      <td>standard</td>\n",
       "      <td>none</td>\n",
       "      <td>58</td>\n",
       "      <td>54</td>\n",
       "      <td>52</td>\n",
       "      <td>P</td>\n",
       "      <td>F</td>\n",
       "      <td>F</td>\n",
       "      <td>F</td>\n",
       "      <td>F</td>\n",
       "      <td>54.67</td>\n",
       "    </tr>\n",
       "    <tr>\n",
       "      <th>11</th>\n",
       "      <td>male</td>\n",
       "      <td>group D</td>\n",
       "      <td>associate's degree</td>\n",
       "      <td>standard</td>\n",
       "      <td>none</td>\n",
       "      <td>40</td>\n",
       "      <td>52</td>\n",
       "      <td>43</td>\n",
       "      <td>F</td>\n",
       "      <td>F</td>\n",
       "      <td>F</td>\n",
       "      <td>F</td>\n",
       "      <td>F</td>\n",
       "      <td>45.00</td>\n",
       "    </tr>\n",
       "    <tr>\n",
       "      <th>12</th>\n",
       "      <td>female</td>\n",
       "      <td>group B</td>\n",
       "      <td>high school</td>\n",
       "      <td>standard</td>\n",
       "      <td>none</td>\n",
       "      <td>65</td>\n",
       "      <td>81</td>\n",
       "      <td>73</td>\n",
       "      <td>P</td>\n",
       "      <td>P</td>\n",
       "      <td>P</td>\n",
       "      <td>P</td>\n",
       "      <td>T</td>\n",
       "      <td>73.00</td>\n",
       "    </tr>\n",
       "  </tbody>\n",
       "</table>\n",
       "</div>"
      ],
      "text/plain": [
       "    gender race/ethnicity parental level of education         lunch  \\\n",
       "0   female        group B           bachelor's degree      standard   \n",
       "2   female        group B             master's degree      standard   \n",
       "3     male        group A          associate's degree  free/reduced   \n",
       "4     male        group C                some college      standard   \n",
       "5   female        group B          associate's degree      standard   \n",
       "7     male        group B                some college  free/reduced   \n",
       "9   female        group B                 high school  free/reduced   \n",
       "10    male        group C          associate's degree      standard   \n",
       "11    male        group D          associate's degree      standard   \n",
       "12  female        group B                 high school      standard   \n",
       "\n",
       "   test preparation course  math score  reading score  writing score  \\\n",
       "0                     none          72             72             74   \n",
       "2                     none          90             95             93   \n",
       "3                     none          47             57             44   \n",
       "4                     none          76             78             75   \n",
       "5                     none          71             83             78   \n",
       "7                     none          40             43             39   \n",
       "9                     none          38             60             50   \n",
       "10                    none          58             54             52   \n",
       "11                    none          40             52             43   \n",
       "12                    none          65             81             73   \n",
       "\n",
       "   Passed_Math Passed_Reading Passed_Writing All_Pass_Status Two_Class_Pass  \\\n",
       "0            P              P              P               P              T   \n",
       "2            P              P              P               P              T   \n",
       "3            F              P              F               F              F   \n",
       "4            P              P              P               P              T   \n",
       "5            P              P              P               P              T   \n",
       "7            F              F              F               F              F   \n",
       "9            F              P              F               F              F   \n",
       "10           P              F              F               F              F   \n",
       "11           F              F              F               F              F   \n",
       "12           P              P              P               P              T   \n",
       "\n",
       "    average of all scores  \n",
       "0                   72.67  \n",
       "2                   92.67  \n",
       "3                   49.33  \n",
       "4                   76.33  \n",
       "5                   77.33  \n",
       "7                   40.67  \n",
       "9                   49.33  \n",
       "10                  54.67  \n",
       "11                  45.00  \n",
       "12                  73.00  "
      ]
     },
     "execution_count": 30,
     "metadata": {},
     "output_type": "execute_result"
    }
   ],
   "source": [
    "test_prep = df[df['test preparation course']=='none']\n",
    "\n",
    "test_prep.head(10)"
   ]
  },
  {
   "cell_type": "code",
   "execution_count": 34,
   "id": "9ba732cf",
   "metadata": {},
   "outputs": [
    {
     "data": {
      "image/png": "[encoded data removed]",
      "text/plain": [
       "<Figure size 640x480 with 1 Axes>"
      ]
     },
     "metadata": {},
     "output_type": "display_data"
    }
   ],
   "source": [
    "df[(df['test preparation course']=='none') & (df['lunch']=='free/reduced')]\n",
    "\n",
    "graphB = sns.countplot(x='lunch', data=df, hue=\"test preparation course\")\n",
    "_ = plt.setp(graphB.get_xticklabels(), rotation=90)"
   ]
  },
  {
   "cell_type": "markdown",
   "id": "5031e5fa",
   "metadata": {},
   "source": [
    "#### There are more students with the standard lunch plan, but the ratio between the type of lunch plan they have and whether they took a test prep course does not have too much disparity."
   ]
  },
  {
   "cell_type": "code",
   "execution_count": 44,
   "id": "b0900907",
   "metadata": {},
   "outputs": [
    {
     "data": {
      "image/png": "[encoded data removed]",
      "text/plain": [
       "<Figure size 640x480 with 1 Axes>"
      ]
     },
     "metadata": {},
     "output_type": "display_data"
    }
   ],
   "source": [
    "graphC = sns.countplot(x='parental level of education', data=df, hue=\"test preparation course\")\n",
    "_ = plt.setp(graphC.get_xticklabels(), rotation=30)"
   ]
  },
  {
   "cell_type": "code",
   "execution_count": 57,
   "id": "dfc19ce0",
   "metadata": {},
   "outputs": [
    {
     "name": "stdout",
     "output_type": "stream",
     "text": [
      "Students who took prep course among others with similar parents with some high school: 56.98%\n",
      "Students who took prep course among others with similar parents with high school: 71.43%\n",
      "Students who took prep course among others with similar parents with some college: 65.93%\n",
      "Students who took prep course among others with similar parents with associate's degree: 63.06%\n",
      "Students who took prep course among others with similar parents with bachelor's degree: 61.02%\n",
      "Students who took prep course among others with similar parents with master's degree: 66.10%\n"
     ]
    }
   ],
   "source": [
    "labels = ['some high school', 'high school','some college', 'associate\\'s degree', 'bachelor\\'s degree', 'master\\'s degree']\n",
    "for x in labels:\n",
    "    ratio = (( (df['parental level of education']==x) & (df['test preparation course']=='none') ).sum()) / (df['parental level of education']==x).sum()\n",
    "    print('Students who took prep course among others with similar parents with %s: %.2f%%' % (x, ratio*100))"
   ]
  },
  {
   "cell_type": "markdown",
   "id": "d404139f",
   "metadata": {},
   "source": [
    "#### There are no obvious sentiments to be made based on the data and percentages above. Most students will avail the test preparation course, regardless of familial education level."
   ]
  },
  {
   "cell_type": "markdown",
   "id": "81a36799",
   "metadata": {},
   "source": [
    "#### The study on socioeconomic relationships such as academic scores and familial degree of education is better suited for much larger data."
   ]
  },
  {
   "cell_type": "code",
   "execution_count": 3,
   "id": "04d1abdf",
   "metadata": {},
   "outputs": [
    {
     "name": "stdout",
     "output_type": "stream",
     "text": [
      "[[8 9 6]\n",
      " [8 8 9]\n",
      " [3 1 7]]\n"
     ]
    }
   ],
   "source": [
    "import numpy as np\n",
    "\n",
    "matrix = np.random.randint(10, size=(3, 3))\n",
    "print(matrix)"
   ]
  },
  {
   "cell_type": "code",
   "execution_count": 5,
   "id": "4d972f27",
   "metadata": {},
   "outputs": [
    {
     "name": "stdout",
     "output_type": "stream",
     "text": [
      "[[ 2.47368421 -3.          1.73684211]\n",
      " [-1.52631579  2.         -1.26315789]\n",
      " [-0.84210526  1.         -0.42105263]]\n"
     ]
    }
   ],
   "source": [
    "inverse_matrix = np.linalg.inv(matrix)\n",
    "print(inverse_matrix)"
   ]
  },
  {
   "cell_type": "code",
   "execution_count": null,
   "id": "eb811bb0",
   "metadata": {},
   "outputs": [],
   "source": []
  }
 ],
 "metadata": {
  "kernelspec": {
   "display_name": "Python 3 (ipykernel)",
   "language": "python",
   "name": "python3"
  },
  "language_info": {
   "codemirror_mode": {
    "name": "ipython",
    "version": 3
   },
   "file_extension": ".py",
   "mimetype": "text/x-python",
   "name": "python",
   "nbconvert_exporter": "python",
   "pygments_lexer": "ipython3",
   "version": "3.10.9"
  }
 },
 "nbformat": 4,
 "nbformat_minor": 5
}
